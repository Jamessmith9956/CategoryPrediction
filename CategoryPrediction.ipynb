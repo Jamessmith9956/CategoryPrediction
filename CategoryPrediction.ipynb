{
 "cells": [
  {
   "cell_type": "markdown",
   "metadata": {},
   "source": [
    "# Current Plan\n",
    "1. Create a function to calculate the distance between descriptions, use that function to naively classify new descriptions. probably looks something like a search function.\n",
    "2. Grab a text classification model of hugging face and fine-tune it on the dataset."
   ]
  },
  {
   "cell_type": "code",
   "execution_count": null,
   "metadata": {},
   "outputs": [],
   "source": [
    "# setup requirements, which aren't loading in the venv for some reason\n",
    "%pip install -r requirements.txt"
   ]
  },
  {
   "cell_type": "markdown",
   "metadata": {},
   "source": [
    "## Data Preperation"
   ]
  },
  {
   "cell_type": "markdown",
   "metadata": {},
   "source": [
    "### Cleaning \n",
    "The data is already pretty clean as far as non gramatical structures go. Removing all non-alphanumeric characters and lowercasing actually seems to reduce performance a bit on the embedding model, and these characters are allready stripped in the tokenization process for the naive models.\n",
    "\n",
    "There are some sanitisation libraries around, eg. pydantic or the NLTK library but i will stick to simple here"
   ]
  },
  {
   "cell_type": "code",
   "execution_count": 15,
   "metadata": {},
   "outputs": [],
   "source": [
    "import pandas as pd\n",
    "import numpy as np\n",
    "from sklearn.model_selection import train_test_split\n",
    "import re\n",
    "\n",
    "with open('data/Datas.csv') as file:\n",
    "    data = pd.read_csv(file)\n",
    "\n",
    "#over cleaning the data hurts prerformance \n",
    "# Strip non alphanumeric characters and convert to lowercase\n",
    "data['Description'] = data['Description'].apply(lambda x: re.sub(r'[^a-zA-Z0-9\\s]', '', x))\n",
    "data['Description'] = data['Description'].apply(lambda x: x.lower())\n",
    "\n",
    "# \n",
    "data['Description'] = data['Description'].apply(lambda x: re.sub(r'&amp;', 'and', x))\n",
    "data['Description'] = data['Description'].apply(lambda x: re.sub(r' & ', 'and', x))\n",
    "\n",
    "#honestly it should all just get lost in the sauce \n",
    "\n",
    "# Change all Categories other than Food and Entertainment to Other\n",
    "#data['Category'] = ['Other' if category not in ['Food', 'Entertainment'] else category for category in data['Category']]\n",
    "\n",
    "\n",
    "#save to csv \n",
    "data.to_csv('data/cleaned_data.csv', index=False)\n"
   ]
  },
  {
   "cell_type": "markdown",
   "metadata": {},
   "source": [
    "### Augmentation/Expansion"
   ]
  },
  {
   "cell_type": "markdown",
   "metadata": {},
   "source": [
    "#### Sampling and splitting\n",
    "Oversampling using a target minimum number of samples doesn't seem to work atm, but I'm out of time to debug it.\n",
    "Smote and AdaSynth are used for the embedded models further down, but they required some extra data to be sythesised to work well.\n",
    "having never done text generation in this way, I'm following [this guide](https://python.langchain.com/docs/modules/model_io/output_parsers/types/pydantic)"
   ]
  },
  {
   "cell_type": "code",
   "execution_count": 16,
   "metadata": {},
   "outputs": [],
   "source": [
    "# Split the training set into train, test and val sets\n",
    "from sklearn.model_selection import train_test_split\n",
    "# class must have at least 3 samples to be split\n",
    "tmp = data.groupby('Category').filter(lambda x: len(x) <= 2)\n",
    "data = data.groupby('Category').filter(lambda x: len(x) > 2)\n",
    "train, test = train_test_split(data, test_size=0.2, stratify=data['Category'], random_state=42)\n",
    "#test = pd.concat([test, tmp], axis=0)\n",
    "train, val = train_test_split(train, test_size=0.3, stratify=train['Category'], random_state=77)"
   ]
  },
  {
   "cell_type": "markdown",
   "metadata": {},
   "source": [
    "#### Sythesising Data using models\n",
    "[using the guide](https://python.langchain.com/docs/modules/model_io/output_parsers/types/pydantic)"
   ]
  },
  {
   "cell_type": "code",
   "execution_count": null,
   "metadata": {},
   "outputs": [],
   "source": [
    "# MiniMA 3B model - requires cloud hosting\n",
    "import torch\n",
    "\n",
    "from transformers import AutoModelForCausalLM, AutoTokenizer\n",
    "\n",
    "# MiniMA\n",
    "tokenizer = AutoTokenizer.from_pretrained(\"GeneZC/MiniMA-3B\", use_fast=False)\n",
    "# GPU.\n",
    "model = AutoModelForCausalLM.from_pretrained(\"GeneZC/MiniMA-3B\", use_cache=True, device_map=\"auto\", torch_dtype=torch.float16).eval()\n",
    "# CPU.\n",
    "#model = AutoModelForCausalLM.from_pretrained(\"GeneZC/MiniMA-3B\", use_cache=True, device_map=\"cpu\", torch_dtype=torch.float16).eval()$\n",
    "# model.to('cuda')\n",
    "\n",
    "prompt = \"Question: Sherrie tells the truth. Vernell says Sherrie tells the truth. Alexis says Vernell lies. Michaela says Alexis tells the truth. Elanor says Michaela tells the truth. Does Elanor tell the truth?\\nAnswer: No\\n\\nQuestion: Kristian lies. Sherrie says Kristian lies. Delbert says Sherrie lies. Jerry says Delbert tells the truth. Shalonda says Jerry tells the truth. Does Shalonda tell the truth?\\nAnswer: No\\n\\nQuestion: Vina tells the truth. Helene says Vina lies. Kandi says Helene tells the truth. Jamey says Kandi lies. Ka says Jamey lies. Does Ka tell the truth?\\nAnswer: No\\n\\nQuestion: Christie tells the truth. Ka says Christie tells the truth. Delbert says Ka lies. Leda says Delbert tells the truth. Lorine says Leda tells the truth. Does Lorine tell the truth?\\nAnswer:\"\n",
    "input_ids = tokenizer([prompt]).input_ids\n",
    "output_ids = model.generate(\n",
    "    torch.as_tensor(input_ids).to('cuda'),\n",
    "    do_sample=True,\n",
    "    temperature=0.7,\n",
    "    max_new_tokens=1024,\n",
    ")\n",
    "output_ids = output_ids[0][len(input_ids[0]):]\n",
    "output = tokenizer.decode(output_ids, skip_special_tokens=True).strip()"
   ]
  },
  {
   "cell_type": "code",
   "execution_count": null,
   "metadata": {},
   "outputs": [],
   "source": [
    "# Define data structure for a row in the dataset.\n",
    "from typing import List\n",
    "\n",
    "from langchain.output_parsers import PydanticOutputParser\n",
    "from langchain.prompts import PromptTemplate\n",
    "from langchain_core.pydantic_v1 import BaseModel, Field, validator\n",
    "\n",
    "\n",
    "class Row(BaseModel):\n",
    "    Description: str = Field(description=\"The description of the item\")\n",
    "    Category: str = Field(description=\"The category of the item\")\n",
    "    SubCategory: str = Field(description=\"The subcategory of the item\")\n",
    "\n",
    "def sythesise_sample(chain, samples: List[Row]):\n",
    "    # And a query intented to prompt a language model to populate the data structure.\n",
    "    sample_rows = \"TBC\"\n",
    "    row_query = \"generate a sample row for the dataset. \\n you can use the following categories: \\n\" + \"\\n\".join(data['Category'].unique()) \n",
    "    row_query = row_query + \"\\n you can use the following subcategories: \\n\" + \"\\n\".join(data['SubCategory'].unique())\n",
    "    row_query = row_query + \"\\n\" + \"here are some rows from the dataset: \\n\" + \"\\n\".join(sample_rows)\n",
    "    return chain.invoke({\"query\": row_query}) # not sure how this outputs as I haven't run it yet\n",
    "    \n",
    "\n",
    "# Set up a parser + inject instructions into the prompt template.\n",
    "parser = PydanticOutputParser(pydantic_object=Row)\n",
    "\n",
    "prompt = PromptTemplate(\n",
    "    template=\"Answer the user query.\\n{format_instructions}\\n{query}\\n\",\n",
    "    input_variables=[\"query\"],\n",
    "    partial_variables={\"format_instructions\": parser.get_format_instructions()},\n",
    ")\n",
    "\n",
    "chain = prompt | model | parser\n",
    "\n",
    "sythesise_sample(chain, Row(Description=\"TBC\", Category=\"TBC\", SubCategory=\"TBC\"))\n",
    "\n",
    "\n"
   ]
  },
  {
   "cell_type": "code",
   "execution_count": 53,
   "metadata": {},
   "outputs": [],
   "source": [
    "# generate samples for classes with less than 0.1 proportion of the major class\n",
    "target_proportion = 0.1\n",
    "major_class_counts = data['Category'].value_counts().max() # 135\n",
    "target_count = int(major_class_counts*target_proportion) # 13\n",
    "\n",
    "new_data = pd.DataFrame(columns=['Description', 'Category', 'SubCategory'])\n",
    "for category in data['Category'].unique():\n",
    "    category_data = data[data['Category'] == category]\n",
    "    # sythesise samples\n",
    "    i = target_count - len(category_data) \n",
    "    while i > 0:\n",
    "        # use list comprehension to convert dataframe to list of Row objects\n",
    "        samples = data[data['Category'] == category]\n",
    "        samples = [Row(Description=sample['Description'], Category=sample['Category'], SubCategory=sample['SubCategory']) for index, sample in samples.iterrows()]\n",
    "        # append sythesised samples to new_data\n",
    "        new_data = new_data.append(sythesise_sample(chain, samples)) # not sure if this is right tbh\n",
    "        i -= 1\n",
    "    "
   ]
  },
  {
   "cell_type": "markdown",
   "metadata": {},
   "source": [
    "#### Sampling - NOT IN USE"
   ]
  },
  {
   "cell_type": "code",
   "execution_count": null,
   "metadata": {},
   "outputs": [],
   "source": [
    "\n",
    "# Resample the training set\n",
    "from imblearn.under_sampling import RandomUnderSampler\n",
    "from imblearn.over_sampling import RandomOverSampler\n",
    "\n",
    "# Oversample, then undersample the training set\n",
    "# def sample_strategy(df, target_proportion):\n",
    "#     major_class_counts = df.value_counts().max() # 135\n",
    "#     target_count = int(major_class_counts*target_proportion) # 13\n",
    "#     return {k: v if v>target_count else target_count for k, v in train['Category'].value_counts().to_dict().items()}\n",
    "# # Target a minimum class count of 10% of the majority class\n",
    "\n",
    "# # targeted oversampling not working\n",
    "# X_train, y_train = train[['Description']], train['Category']\n",
    "# oversampler = RandomOverSampler(sampling_strategy='auto', random_state=42)\n",
    "# # oversampler = RandomOverSampler(sampling_strategy=sample_strategy(X_train,0.1), random_state=42)\n",
    "# X_train, y_train = oversampler.fit_resample(train[['Description']], train['Category'])\n",
    "#undersampler = RandomUnderSampler(sampling_strategy=sample_strategy(X_train,-0.5), random_state=42)\n",
    "#X_train, y_train = undersampler.fit_resample(X_train, y_train)\n",
    "\n",
    "# # join back because I don't want to refactor the notebook rn\n",
    "# train = pd.concat([X_train, y_train], axis=1)   \n",
    "# print(train.shape, val.shape, test.shape)\n",
    "# # save data\n",
    "# train.to_csv('data/train.csv', index=False)"
   ]
  },
  {
   "cell_type": "markdown",
   "metadata": {},
   "source": [
    "#### Tokenization"
   ]
  },
  {
   "cell_type": "code",
   "execution_count": 12,
   "metadata": {},
   "outputs": [
    {
     "data": {
      "text/html": [
       "<style>#sk-container-id-2 {color: black;}#sk-container-id-2 pre{padding: 0;}#sk-container-id-2 div.sk-toggleable {background-color: white;}#sk-container-id-2 label.sk-toggleable__label {cursor: pointer;display: block;width: 100%;margin-bottom: 0;padding: 0.3em;box-sizing: border-box;text-align: center;}#sk-container-id-2 label.sk-toggleable__label-arrow:before {content: \"▸\";float: left;margin-right: 0.25em;color: #696969;}#sk-container-id-2 label.sk-toggleable__label-arrow:hover:before {color: black;}#sk-container-id-2 div.sk-estimator:hover label.sk-toggleable__label-arrow:before {color: black;}#sk-container-id-2 div.sk-toggleable__content {max-height: 0;max-width: 0;overflow: hidden;text-align: left;background-color: #f0f8ff;}#sk-container-id-2 div.sk-toggleable__content pre {margin: 0.2em;color: black;border-radius: 0.25em;background-color: #f0f8ff;}#sk-container-id-2 input.sk-toggleable__control:checked~div.sk-toggleable__content {max-height: 200px;max-width: 100%;overflow: auto;}#sk-container-id-2 input.sk-toggleable__control:checked~label.sk-toggleable__label-arrow:before {content: \"▾\";}#sk-container-id-2 div.sk-estimator input.sk-toggleable__control:checked~label.sk-toggleable__label {background-color: #d4ebff;}#sk-container-id-2 div.sk-label input.sk-toggleable__control:checked~label.sk-toggleable__label {background-color: #d4ebff;}#sk-container-id-2 input.sk-hidden--visually {border: 0;clip: rect(1px 1px 1px 1px);clip: rect(1px, 1px, 1px, 1px);height: 1px;margin: -1px;overflow: hidden;padding: 0;position: absolute;width: 1px;}#sk-container-id-2 div.sk-estimator {font-family: monospace;background-color: #f0f8ff;border: 1px dotted black;border-radius: 0.25em;box-sizing: border-box;margin-bottom: 0.5em;}#sk-container-id-2 div.sk-estimator:hover {background-color: #d4ebff;}#sk-container-id-2 div.sk-parallel-item::after {content: \"\";width: 100%;border-bottom: 1px solid gray;flex-grow: 1;}#sk-container-id-2 div.sk-label:hover label.sk-toggleable__label {background-color: #d4ebff;}#sk-container-id-2 div.sk-serial::before {content: \"\";position: absolute;border-left: 1px solid gray;box-sizing: border-box;top: 0;bottom: 0;left: 50%;z-index: 0;}#sk-container-id-2 div.sk-serial {display: flex;flex-direction: column;align-items: center;background-color: white;padding-right: 0.2em;padding-left: 0.2em;position: relative;}#sk-container-id-2 div.sk-item {position: relative;z-index: 1;}#sk-container-id-2 div.sk-parallel {display: flex;align-items: stretch;justify-content: center;background-color: white;position: relative;}#sk-container-id-2 div.sk-item::before, #sk-container-id-2 div.sk-parallel-item::before {content: \"\";position: absolute;border-left: 1px solid gray;box-sizing: border-box;top: 0;bottom: 0;left: 50%;z-index: -1;}#sk-container-id-2 div.sk-parallel-item {display: flex;flex-direction: column;z-index: 1;position: relative;background-color: white;}#sk-container-id-2 div.sk-parallel-item:first-child::after {align-self: flex-end;width: 50%;}#sk-container-id-2 div.sk-parallel-item:last-child::after {align-self: flex-start;width: 50%;}#sk-container-id-2 div.sk-parallel-item:only-child::after {width: 0;}#sk-container-id-2 div.sk-dashed-wrapped {border: 1px dashed gray;margin: 0 0.4em 0.5em 0.4em;box-sizing: border-box;padding-bottom: 0.4em;background-color: white;}#sk-container-id-2 div.sk-label label {font-family: monospace;font-weight: bold;display: inline-block;line-height: 1.2em;}#sk-container-id-2 div.sk-label-container {text-align: center;}#sk-container-id-2 div.sk-container {/* jupyter's `normalize.less` sets `[hidden] { display: none; }` but bootstrap.min.css set `[hidden] { display: none !important; }` so we also need the `!important` here to be able to override the default hidden behavior on the sphinx rendered scikit-learn.org. See: https://github.com/scikit-learn/scikit-learn/issues/21755 */display: inline-block !important;position: relative;}#sk-container-id-2 div.sk-text-repr-fallback {display: none;}</style><div id=\"sk-container-id-2\" class=\"sk-top-container\"><div class=\"sk-text-repr-fallback\"><pre>TfidfVectorizer()</pre><b>In a Jupyter environment, please rerun this cell to show the HTML representation or trust the notebook. <br />On GitHub, the HTML representation is unable to render, please try loading this page with nbviewer.org.</b></div><div class=\"sk-container\" hidden><div class=\"sk-item\"><div class=\"sk-estimator sk-toggleable\"><input class=\"sk-toggleable__control sk-hidden--visually\" id=\"sk-estimator-id-2\" type=\"checkbox\" checked><label for=\"sk-estimator-id-2\" class=\"sk-toggleable__label sk-toggleable__label-arrow\">TfidfVectorizer</label><div class=\"sk-toggleable__content\"><pre>TfidfVectorizer()</pre></div></div></div></div></div>"
      ],
      "text/plain": [
       "TfidfVectorizer()"
      ]
     },
     "execution_count": 12,
     "metadata": {},
     "output_type": "execute_result"
    }
   ],
   "source": [
    "# Function to measure distance \n",
    "from sklearn.feature_extraction.text import TfidfVectorizer\n",
    "# have a think about whether the data needs cleaning\n",
    "\n",
    "tfidf = TfidfVectorizer() # use token_pattern to remove punctuation if needed\n",
    "tfidf.fit(train['Description']) # val set not included here "
   ]
  },
  {
   "cell_type": "markdown",
   "metadata": {},
   "source": [
    "## Evaluation tools"
   ]
  },
  {
   "cell_type": "code",
   "execution_count": 3,
   "metadata": {},
   "outputs": [],
   "source": [
    "from sklearn.metrics import  confusion_matrix, accuracy_score, precision_score, recall_score, f1_score\n",
    "from sklearn.metrics import ConfusionMatrixDisplay\n",
    "import matplotlib.pyplot as plt\n",
    "def evaluate(Y_true, Y_pred, dataset_name=\"Train\"):\n",
    "    # evaluate using the sklearn functions\n",
    "    precision = precision_score(Y_true, Y_pred, average='macro') #TP / (TP + FP)\n",
    "    recall = recall_score(Y_true, Y_pred, average='macro') #TP / (TP + FN)\n",
    "    f1_macro = f1_score(Y_true, Y_pred, average='macro')\n",
    "    f1 = f1_score(Y_true, Y_pred, average='weighted')\n",
    "    accuracy = accuracy_score(Y_true, Y_pred) #(TP + TN) / (TP + FP + FN + TN)\n",
    "    \n",
    "    # plot\n",
    "    print(dataset_name,\" Precision(macro):\", precision)\n",
    "    print(dataset_name,\" Recall(macro):\", recall)\n",
    "    print(dataset_name,\" F1 Score(macro):\", f1_macro)\n",
    "    print(dataset_name,\" F1 Score(weighted):\", f1)\n",
    "    print(dataset_name,\" Accuracy:\", accuracy)\n",
    "    \n",
    "def plot_confusion(Y_true, Y_pred, model, fig_name=\"confusion.png\"):\n",
    "    confusion = confusion_matrix(Y_true, Y_pred)\n",
    "    disp = ConfusionMatrixDisplay(confusion, display_labels= model.classes_)\n",
    "    disp.plot(xticks_rotation=90)\n",
    "    plt.savefig('analysis/'+fig_name, bbox_inches='tight')\n",
    "    plt.show()"
   ]
  },
  {
   "cell_type": "markdown",
   "metadata": {},
   "source": [
    "## 1. Basic SciKitLearn Models"
   ]
  },
  {
   "cell_type": "markdown",
   "metadata": {},
   "source": [
    "### Investigating cosine similarity"
   ]
  },
  {
   "cell_type": "code",
   "execution_count": 37,
   "metadata": {},
   "outputs": [],
   "source": [
    "# cosine distance\n",
    "from sklearn.metrics.pairwise import cosine_similarity\n",
    "\n",
    "values = cosine_similarity(tfidf.transform(train['Description']).toarray(), tfidf.transform(train['Description']).toarray()) # dist() = x.y / (||x|| * ||y||) or sum(x * y) / (sqrt(sum(x^2)) * sqrt(sum(y^2)))\n",
    "similarities = pd.DataFrame(values, index=train.index, columns=train.index)\n",
    "\n",
    "# plot\n",
    "import seaborn as sns\n",
    "import matplotlib.pyplot as plt\n",
    "\n",
    "sns.heatmap(similarities)"
   ]
  },
  {
   "cell_type": "markdown",
   "metadata": {},
   "source": [
    "### SKLearn Models\n",
    "Testing the variety of models, SVM and Naive Bayes worked the best on the raw data, while KNN and RF didn't work as well as expected.\n",
    "All models suffered from the distibution issue in the datset, only predicting the most common classes (food and entertainment)."
   ]
  },
  {
   "cell_type": "code",
   "execution_count": null,
   "metadata": {},
   "outputs": [],
   "source": [
    "# KNN\n",
    "from sklearn.neighbors import KNeighborsClassifier\n",
    "from sklearn.model_selection import cross_val_score\n",
    "\n",
    "# setup KNN\n",
    "k = int(np.sqrt(train['Category'].count())) # sqrt(n) is a common choice for k\n",
    "knn = KNeighborsClassifier(n_neighbors=k, metric='cosine')\n",
    "knn.fit(tfidf.transform(train['Description']).toarray(), train['Category'])\n",
    "\n",
    "# predict\n",
    "train_accuracy = cross_val_score(knn, tfidf.transform(train['Description']).toarray(), train['Category'], cv=5, scoring='accuracy')\n",
    "val_hat = knn.predict(tfidf.transform(val['Description']).toarray())\n",
    "\n",
    "# evaluate\n",
    "print(\"training accuracy:\", train_accuracy.mean())\n",
    "evaluate(val['Category'], val_hat, \"Val\")\n",
    "plot_confusion(val['Category'], val_hat, knn, \"confusion_matricies/knn.png\")"
   ]
  },
  {
   "cell_type": "code",
   "execution_count": null,
   "metadata": {},
   "outputs": [],
   "source": [
    "# SVM\n",
    "from sklearn.svm import SVC\n",
    "\n",
    "# prepare data labels to be numerical\n",
    "from sklearn.preprocessing import LabelEncoder\n",
    "le = LabelEncoder()\n",
    "le.fit(train['Category'])\n",
    "train_Y = le.transform(train['Category'])\n",
    "val_Y = le.transform(val['Category'])\n",
    "\n",
    "# setup SVM\n",
    "svm = SVC(kernel='linear')\n",
    "svm.fit(tfidf.transform(train['Description']).toarray(), train_Y)\n",
    "\n",
    "# predict\n",
    "train_accuracy = cross_val_score(svm, tfidf.transform(train['Description']).toarray(), train['Category'], cv=5, scoring='accuracy')\n",
    "val_hat = svm.predict(tfidf.transform(val['Description']).toarray())\n",
    "\n",
    "# evaluate\n",
    "print(\"training accuracy:\", train_accuracy.mean())\n",
    "evaluate(val_Y, val_hat, \"Val\")\n",
    "plot_confusion(val_Y, val_hat, svm, \"confusion_matricies/svm.png\")"
   ]
  },
  {
   "cell_type": "markdown",
   "metadata": {},
   "source": [
    "## 2. HuggingFace Models"
   ]
  },
  {
   "cell_type": "markdown",
   "metadata": {},
   "source": [
    "### Embedding"
   ]
  },
  {
   "cell_type": "code",
   "execution_count": 17,
   "metadata": {},
   "outputs": [],
   "source": [
    "# MiniLM encoding; full guide: https://huggingface.co/sentence-transformers/all-MiniLM-L6-v2\n",
    "import pandas as pd \n",
    "from sentence_transformers import SentenceTransformer\n",
    "sentences = [\"This is an example sentence\", \"Each sentence is converted\"]\n",
    "\n",
    "model = SentenceTransformer('sentence-transformers/all-MiniLM-L6-v2')\n",
    "embeddings = model.encode(train['Description'].values)\n",
    "\n",
    "assert len(embeddings) == train['Description'].count() "
   ]
  },
  {
   "cell_type": "markdown",
   "metadata": {},
   "source": [
    "### SMOTE / ADASYN synthetic oversampling\n",
    "This method is really promising, and had a big effect when used on the categories with enough data, but there just isn't enough data to make it work well."
   ]
  },
  {
   "cell_type": "code",
   "execution_count": 47,
   "metadata": {},
   "outputs": [],
   "source": [
    "# SMOTE - requires more than 6 samples \n",
    "from imblearn.over_sampling import SMOTE\n",
    "smote = SMOTE(sampling_strategy='auto', random_state=42)\n",
    "train_X, train_y = smote.fit_resample(embeddings, train['Category'])"
   ]
  },
  {
   "cell_type": "code",
   "execution_count": null,
   "metadata": {},
   "outputs": [],
   "source": [
    "# ADASYN - requires more than 6 samples \n",
    "from imblearn.over_sampling import ADASYN\n",
    "adasyn = ADASYN(sampling_strategy='auto', random_state=42)\n",
    "train_X, train_y = adasyn.fit_resample(embeddings, train['Category'])\n",
    "train = pd.concat(train_X, train_y, axis=1)   "
   ]
  },
  {
   "cell_type": "markdown",
   "metadata": {},
   "source": [
    "### Basic Models on Embeddings"
   ]
  },
  {
   "cell_type": "code",
   "execution_count": null,
   "metadata": {},
   "outputs": [],
   "source": [
    "# KNN on embeddings\n",
    "from sklearn.neighbors import KNeighborsClassifier\n",
    "\n",
    "# setup KNN\n",
    "k = int(np.sqrt(train['Category'].count())) # sqrt(n) is a common choice for k\n",
    "knn = KNeighborsClassifier(n_neighbors=k, metric='cosine')\n",
    "knn.fit(embeddings, train['Category']) # should still have the same indicies\n",
    "\n",
    "# predict\n",
    "train_y_hat = knn.predict(model.encode(train['Description'].values))\n",
    "val_hat = knn.predict(model.encode(val['Description'].values))\n",
    "test_hat = knn.predict(model.encode(test['Description'].values))\n",
    "\n",
    "# evaluate\n",
    "#evaluate(train['Category'], train_hat, \"Test\")\n",
    "evaluate(val['Category'], val_hat, \"Val\")\n",
    "plot_confusion(val['Category'], val_hat, knn, \"confusion_matricies/knn_embeddings.png\")\n",
    "evaluate(test['Category'], test_hat, \"Test\")\n",
    "plot_confusion(test['Category'], test_hat, knn, \"confusion_matricies/knn_embeddings_test.png\")"
   ]
  },
  {
   "cell_type": "code",
   "execution_count": null,
   "metadata": {},
   "outputs": [],
   "source": [
    "# SVM on embeddings\n",
    "from sklearn.svm import SVC\n",
    "\n",
    "# setup SVM\n",
    "svm = SVC(kernel='linear')\n",
    "svm.fit(embeddings, train['Category'])\n",
    "\n",
    "# predict\n",
    "val_embeddings = model.encode(val['Description'].values)\n",
    "train_hat = svm.predict(embeddings)\n",
    "val_hat = svm.predict(val_embeddings)\n",
    "test_hat = svm.predict(model.encode(test['Description'].values))\n",
    "\n",
    "# Evaluate\n",
    "#evaluate(train['Category'], train_hat, \"Test\")\n",
    "evaluate(val['Category'], val_hat, \"Val\")\n",
    "plot_confusion(val['Category'], val_hat, knn, \"confusion_matricies/svm_embeddings.png\")\n",
    "evaluate(test['Category'], test_hat, \"Test\")\n",
    "plot_confusion(test['Category'], test_hat, knn, \"confusion_matricies/svm_embeddings_test.png\")"
   ]
  },
  {
   "cell_type": "code",
   "execution_count": null,
   "metadata": {},
   "outputs": [],
   "source": [
    "# SVM on embeddings subcategories\n",
    "from sklearn.svm import SVC\n",
    "\n",
    "# prepare data labels to be numerical\n",
    "from sklearn.preprocessing import LabelEncoder\n",
    "cat_le = LabelEncoder()\n",
    "cat_le.fit(train['Category'])\n",
    "train_cat = cat_le.transform(train['Category'])\n",
    "val_cat = cat_le.transform(val['Category'])\n",
    "\n",
    "subcat_le = LabelEncoder()\n",
    "# unique values of subcategories\n",
    "subcats = np.append(train['Sub_Category'].unique(), \"Unknown\")\n",
    "subcat_le.fit(subcats)\n",
    "train_Y = subcat_le.transform(train['Sub_Category'])\n",
    "val['Sub_Category'] = [subcat if subcat in subcats else \"Unknown\" for subcat in val['Sub_Category']]\n",
    "val_Y = subcat_le.transform(val['Sub_Category'])\n",
    "\n",
    "#concat train_Y to final column in embeddings\n",
    "#embeddings = np.concatenate((embeddings, train_cat), axis=1)\n",
    "embeddings = np.column_stack((embeddings, train_cat))\n",
    "val_embeddings = model.encode(val['Description'].values)\n",
    "val_embeddings = np.column_stack((val_embeddings, val_cat))\n",
    "\n",
    "# setup\n",
    "n_svm = SVC(kernel='linear')\n",
    "n_svm.fit(embeddings, train_Y)\n",
    "\n",
    "# predict\n",
    "train_y_hat = n_svm.predict(embeddings)\n",
    "val_Y_hat = n_svm.predict(val_embeddings)\n",
    "\n",
    "# Evaluate\n",
    "#evaluate(train['Category'], train_hat, \"Test\")\n",
    "evaluate(val_Y, val_Y_hat, \"Val\")\n",
    "plot_confusion(val_Y, val_Y_hat, n_svm, \"confusion_matricies/svm_embeddings_subcategories.png\")"
   ]
  },
  {
   "cell_type": "code",
   "execution_count": null,
   "metadata": {},
   "outputs": [],
   "source": [
    "from sklearn.model_selection import cross_val_score\n",
    "from sklearn.svm import SVC\n",
    "# SVM with class weights on embeddings\n",
    "# setup\n",
    "total = train['Category'].count()\n",
    "class_weights = {k: 1-(v/total) for k, v in train['Category'].value_counts().to_dict().items()}\n",
    "svm = SVC(kernel='linear', class_weight=class_weights)\n",
    "svm.fit(embeddings, train['Category'])\n",
    "\n",
    "# cross validate\n",
    "scores = cross_val_score(svm, embeddings, train['Category'], cv=5)\n",
    "\n",
    "# predict\n",
    "train_hat = svm.predict(embeddings)\n",
    "val_embeddings = model.encode(val['Description'].values)\n",
    "val_hat = svm.predict(val_embeddings)\n",
    "test_hat = svm.predict(model.encode(test['Description'].values))\n",
    "# Evaluate\n",
    "#evaluate(train['Category'], train_hat, \"Test\")\n",
    "evaluate(val['Category'], val_hat, \"Val\")\n",
    "plot_confusion(val['Category'], val_hat, knn, \"confusion_matricies/svm_embeddings_weights.png\")\n",
    "evaluate(test['Category'], test_hat, \"Test\")\n",
    "plot_confusion(test['Category'], test_hat, knn, \"confusion_matricies/svm_embeddings_test_weights.png\")"
   ]
  },
  {
   "cell_type": "markdown",
   "metadata": {},
   "source": [
    "# Next Steps (post interview activities)"
   ]
  },
  {
   "cell_type": "markdown",
   "metadata": {},
   "source": [
    "## 3. [AutoEmbedder](https://medium.com/kirey-group/autoembedder-training-embedding-layers-on-unsupervised-tasks-fc364c0f6eec)\n",
    "Auto Embeddings are a common way to encode categorical features in a machine learning context.\n",
    "Fasttext also has the added benefit of predicting on subword level features.\n",
    "\n"
   ]
  },
  {
   "cell_type": "code",
   "execution_count": 7,
   "metadata": {},
   "outputs": [
    {
     "name": "stdout",
     "output_type": "stream",
     "text": [
      "CategoryPrediction.ipynb  README.md  \u001b[0m\u001b[01;34manalysis\u001b[0m/  \u001b[01;34mdata\u001b[0m/  requirements.txt  \u001b[01;34mvenv\u001b[0m/\n"
     ]
    }
   ],
   "source": [
    "# fasttext is nonsense, seems kind of complicated to setup with my existing data cleaning. given I already have passable embeddings, I'm not sure its worth the effort."
   ]
  },
  {
   "cell_type": "markdown",
   "metadata": {},
   "source": [
    "## 4. predicting labels as embeddings\n",
    "I don't expect this to work well, as I don't know how well I can reproduces embeddings. "
   ]
  },
  {
   "cell_type": "markdown",
   "metadata": {},
   "source": [
    "## 5. Using a transformer to classify embeddings"
   ]
  },
  {
   "cell_type": "code",
   "execution_count": 25,
   "metadata": {},
   "outputs": [
    {
     "ename": "KeyboardInterrupt",
     "evalue": "",
     "output_type": "error",
     "traceback": [
      "\u001b[0;31m---------------------------------------------------------------------------\u001b[0m",
      "\u001b[0;31mKeyboardInterrupt\u001b[0m                         Traceback (most recent call last)",
      "Cell \u001b[0;32mIn[25], line 8\u001b[0m\n\u001b[1;32m      6\u001b[0m model \u001b[38;5;241m=\u001b[39m SentenceTransformer(\u001b[38;5;124m'\u001b[39m\u001b[38;5;124msentence-transformers/all-MiniLM-L6-v2\u001b[39m\u001b[38;5;124m'\u001b[39m)\n\u001b[1;32m      7\u001b[0m training_embeddings \u001b[38;5;241m=\u001b[39m model\u001b[38;5;241m.\u001b[39mencode(train[\u001b[38;5;124m'\u001b[39m\u001b[38;5;124mDescription\u001b[39m\u001b[38;5;124m'\u001b[39m]\u001b[38;5;241m.\u001b[39mvalues)\n\u001b[0;32m----> 8\u001b[0m \u001b[38;5;28;43mprint\u001b[39;49m(training_embeddings\u001b[38;5;241m.\u001b[39mshape) \u001b[38;5;66;03m# (n, 384)\u001b[39;00m\n\u001b[1;32m     11\u001b[0m \u001b[38;5;28;01massert\u001b[39;00m \u001b[38;5;28mlen\u001b[39m(embeddings) \u001b[38;5;241m==\u001b[39m train[\u001b[38;5;124m'\u001b[39m\u001b[38;5;124mDescription\u001b[39m\u001b[38;5;124m'\u001b[39m]\u001b[38;5;241m.\u001b[39mcount() \n",
      "Cell \u001b[0;32mIn[25], line 8\u001b[0m\n\u001b[1;32m      6\u001b[0m model \u001b[38;5;241m=\u001b[39m SentenceTransformer(\u001b[38;5;124m'\u001b[39m\u001b[38;5;124msentence-transformers/all-MiniLM-L6-v2\u001b[39m\u001b[38;5;124m'\u001b[39m)\n\u001b[1;32m      7\u001b[0m training_embeddings \u001b[38;5;241m=\u001b[39m model\u001b[38;5;241m.\u001b[39mencode(train[\u001b[38;5;124m'\u001b[39m\u001b[38;5;124mDescription\u001b[39m\u001b[38;5;124m'\u001b[39m]\u001b[38;5;241m.\u001b[39mvalues)\n\u001b[0;32m----> 8\u001b[0m \u001b[38;5;28;43mprint\u001b[39;49m(training_embeddings\u001b[38;5;241m.\u001b[39mshape) \u001b[38;5;66;03m# (n, 384)\u001b[39;00m\n\u001b[1;32m     11\u001b[0m \u001b[38;5;28;01massert\u001b[39;00m \u001b[38;5;28mlen\u001b[39m(embeddings) \u001b[38;5;241m==\u001b[39m train[\u001b[38;5;124m'\u001b[39m\u001b[38;5;124mDescription\u001b[39m\u001b[38;5;124m'\u001b[39m]\u001b[38;5;241m.\u001b[39mcount() \n",
      "File \u001b[0;32m_pydevd_bundle/pydevd_cython.pyx:1457\u001b[0m, in \u001b[0;36m_pydevd_bundle.pydevd_cython.SafeCallWrapper.__call__\u001b[0;34m()\u001b[0m\n",
      "File \u001b[0;32m_pydevd_bundle/pydevd_cython.pyx:701\u001b[0m, in \u001b[0;36m_pydevd_bundle.pydevd_cython.PyDBFrame.trace_dispatch\u001b[0;34m()\u001b[0m\n",
      "File \u001b[0;32m_pydevd_bundle/pydevd_cython.pyx:1152\u001b[0m, in \u001b[0;36m_pydevd_bundle.pydevd_cython.PyDBFrame.trace_dispatch\u001b[0;34m()\u001b[0m\n",
      "File \u001b[0;32m_pydevd_bundle/pydevd_cython.pyx:1135\u001b[0m, in \u001b[0;36m_pydevd_bundle.pydevd_cython.PyDBFrame.trace_dispatch\u001b[0;34m()\u001b[0m\n",
      "File \u001b[0;32m_pydevd_bundle/pydevd_cython.pyx:312\u001b[0m, in \u001b[0;36m_pydevd_bundle.pydevd_cython.PyDBFrame.do_wait_suspend\u001b[0;34m()\u001b[0m\n",
      "File \u001b[0;32m~/projects/categoryPrediction/venv/lib/python3.8/site-packages/debugpy/_vendored/pydevd/pydevd.py:2070\u001b[0m, in \u001b[0;36mPyDB.do_wait_suspend\u001b[0;34m(self, thread, frame, event, arg, exception_type)\u001b[0m\n\u001b[1;32m   2067\u001b[0m             from_this_thread\u001b[38;5;241m.\u001b[39mappend(frame_custom_thread_id)\n\u001b[1;32m   2069\u001b[0m     \u001b[38;5;28;01mwith\u001b[39;00m \u001b[38;5;28mself\u001b[39m\u001b[38;5;241m.\u001b[39m_threads_suspended_single_notification\u001b[38;5;241m.\u001b[39mnotify_thread_suspended(thread_id, thread, stop_reason):\n\u001b[0;32m-> 2070\u001b[0m         keep_suspended \u001b[38;5;241m=\u001b[39m \u001b[38;5;28;43mself\u001b[39;49m\u001b[38;5;241;43m.\u001b[39;49m\u001b[43m_do_wait_suspend\u001b[49m\u001b[43m(\u001b[49m\u001b[43mthread\u001b[49m\u001b[43m,\u001b[49m\u001b[43m \u001b[49m\u001b[43mframe\u001b[49m\u001b[43m,\u001b[49m\u001b[43m \u001b[49m\u001b[43mevent\u001b[49m\u001b[43m,\u001b[49m\u001b[43m \u001b[49m\u001b[43marg\u001b[49m\u001b[43m,\u001b[49m\u001b[43m \u001b[49m\u001b[43msuspend_type\u001b[49m\u001b[43m,\u001b[49m\u001b[43m \u001b[49m\u001b[43mfrom_this_thread\u001b[49m\u001b[43m,\u001b[49m\u001b[43m \u001b[49m\u001b[43mframes_tracker\u001b[49m\u001b[43m)\u001b[49m\n\u001b[1;32m   2072\u001b[0m frames_list \u001b[38;5;241m=\u001b[39m \u001b[38;5;28;01mNone\u001b[39;00m\n\u001b[1;32m   2074\u001b[0m \u001b[38;5;28;01mif\u001b[39;00m keep_suspended:\n\u001b[1;32m   2075\u001b[0m     \u001b[38;5;66;03m# This means that we should pause again after a set next statement.\u001b[39;00m\n",
      "File \u001b[0;32m~/projects/categoryPrediction/venv/lib/python3.8/site-packages/debugpy/_vendored/pydevd/pydevd.py:2106\u001b[0m, in \u001b[0;36mPyDB._do_wait_suspend\u001b[0;34m(self, thread, frame, event, arg, suspend_type, from_this_thread, frames_tracker)\u001b[0m\n\u001b[1;32m   2103\u001b[0m         \u001b[38;5;28mself\u001b[39m\u001b[38;5;241m.\u001b[39m_call_input_hook()\n\u001b[1;32m   2105\u001b[0m     \u001b[38;5;28mself\u001b[39m\u001b[38;5;241m.\u001b[39mprocess_internal_commands()\n\u001b[0;32m-> 2106\u001b[0m     \u001b[43mtime\u001b[49m\u001b[38;5;241;43m.\u001b[39;49m\u001b[43msleep\u001b[49m\u001b[43m(\u001b[49m\u001b[38;5;241;43m0.01\u001b[39;49m\u001b[43m)\u001b[49m\n\u001b[1;32m   2108\u001b[0m \u001b[38;5;28mself\u001b[39m\u001b[38;5;241m.\u001b[39mcancel_async_evaluation(get_current_thread_id(thread), \u001b[38;5;28mstr\u001b[39m(\u001b[38;5;28mid\u001b[39m(frame)))\n\u001b[1;32m   2110\u001b[0m \u001b[38;5;66;03m# process any stepping instructions\u001b[39;00m\n",
      "\u001b[0;31mKeyboardInterrupt\u001b[0m: "
     ]
    }
   ],
   "source": [
    "# MiniLM encoding; full guide: https://huggingface.co/sentence-transformers/all-MiniLM-L6-v2\n",
    "import pandas as pd \n",
    "from sentence_transformers import SentenceTransformer\n",
    "sentences = [\"This is an example sentence\", \"Each sentence is converted\"]\n",
    "\n",
    "model = SentenceTransformer('sentence-transformers/all-MiniLM-L6-v2')\n",
    "training_embeddings = model.encode(train['Description'].values)\n",
    "print(training_embeddings.shape) # (n, 384)\n",
    "\n",
    "\n",
    "assert len(embeddings) == train['Description'].count() "
   ]
  },
  {
   "cell_type": "code",
   "execution_count": 26,
   "metadata": {},
   "outputs": [
    {
     "name": "stdout",
     "output_type": "stream",
     "text": [
      "Epoch [1/100], Loss: 0.9896\n",
      "Epoch [2/100], Loss: 0.9405\n",
      "Epoch [3/100], Loss: 0.9245\n",
      "Epoch [4/100], Loss: 0.9190\n",
      "Epoch [5/100], Loss: 0.9155\n",
      "Epoch [6/100], Loss: 0.9122\n",
      "Epoch [7/100], Loss: 0.9089\n",
      "Epoch [8/100], Loss: 0.9054\n",
      "Epoch [9/100], Loss: 0.9023\n",
      "Epoch [10/100], Loss: 0.8992\n",
      "Epoch [11/100], Loss: 0.8961\n",
      "Epoch [12/100], Loss: 0.8929\n",
      "Epoch [13/100], Loss: 0.8898\n",
      "Epoch [14/100], Loss: 0.8866\n",
      "Epoch [15/100], Loss: 0.8833\n",
      "Epoch [16/100], Loss: 0.8800\n",
      "Epoch [17/100], Loss: 0.8768\n",
      "Epoch [18/100], Loss: 0.8736\n",
      "Epoch [19/100], Loss: 0.8703\n",
      "Epoch [20/100], Loss: 0.8671\n",
      "Epoch [21/100], Loss: 0.8638\n",
      "Epoch [22/100], Loss: 0.8607\n",
      "Epoch [23/100], Loss: 0.8574\n",
      "Epoch [24/100], Loss: 0.8542\n",
      "Epoch [25/100], Loss: 0.8510\n",
      "Epoch [26/100], Loss: 0.8477\n",
      "Epoch [27/100], Loss: 0.8446\n",
      "Epoch [28/100], Loss: 0.8414\n",
      "Epoch [29/100], Loss: 0.8381\n",
      "Epoch [30/100], Loss: 0.8350\n",
      "Epoch [31/100], Loss: 0.8317\n",
      "Epoch [32/100], Loss: 0.8286\n",
      "Epoch [33/100], Loss: 0.8253\n",
      "Epoch [34/100], Loss: 0.8221\n",
      "Epoch [35/100], Loss: 0.8189\n",
      "Epoch [36/100], Loss: 0.8157\n",
      "Epoch [37/100], Loss: 0.8126\n",
      "Epoch [38/100], Loss: 0.8093\n",
      "Epoch [39/100], Loss: 0.8061\n",
      "Epoch [40/100], Loss: 0.8029\n",
      "Epoch [41/100], Loss: 0.7998\n",
      "Epoch [42/100], Loss: 0.7966\n",
      "Epoch [43/100], Loss: 0.7934\n",
      "Epoch [44/100], Loss: 0.7902\n",
      "Epoch [45/100], Loss: 0.7869\n",
      "Epoch [46/100], Loss: 0.7837\n",
      "Epoch [47/100], Loss: 0.7805\n",
      "Epoch [48/100], Loss: 0.7773\n",
      "Epoch [49/100], Loss: 0.7742\n",
      "Epoch [50/100], Loss: 0.7709\n",
      "Epoch [51/100], Loss: 0.7677\n",
      "Epoch [52/100], Loss: 0.7646\n",
      "Epoch [53/100], Loss: 0.7613\n",
      "Epoch [54/100], Loss: 0.7581\n",
      "Epoch [55/100], Loss: 0.7549\n",
      "Epoch [56/100], Loss: 0.7517\n",
      "Epoch [57/100], Loss: 0.7484\n",
      "Epoch [58/100], Loss: 0.7452\n",
      "Epoch [59/100], Loss: 0.7420\n",
      "Epoch [60/100], Loss: 0.7388\n",
      "Epoch [61/100], Loss: 0.7356\n",
      "Epoch [62/100], Loss: 0.7324\n",
      "Epoch [63/100], Loss: 0.7291\n",
      "Epoch [64/100], Loss: 0.7259\n",
      "Epoch [65/100], Loss: 0.7227\n",
      "Epoch [66/100], Loss: 0.7195\n",
      "Epoch [67/100], Loss: 0.7162\n",
      "Epoch [68/100], Loss: 0.7130\n",
      "Epoch [69/100], Loss: 0.7098\n",
      "Epoch [70/100], Loss: 0.7065\n",
      "Epoch [71/100], Loss: 0.7033\n",
      "Epoch [72/100], Loss: 0.7000\n",
      "Epoch [73/100], Loss: 0.6967\n",
      "Epoch [74/100], Loss: 0.6936\n",
      "Epoch [75/100], Loss: 0.6903\n",
      "Epoch [76/100], Loss: 0.6871\n",
      "Epoch [77/100], Loss: 0.6838\n",
      "Epoch [78/100], Loss: 0.6805\n",
      "Epoch [79/100], Loss: 0.6772\n",
      "Epoch [80/100], Loss: 0.6739\n",
      "Epoch [81/100], Loss: 0.6707\n",
      "Epoch [82/100], Loss: 0.6674\n",
      "Epoch [83/100], Loss: 0.6641\n",
      "Epoch [84/100], Loss: 0.6608\n",
      "Epoch [85/100], Loss: 0.6576\n",
      "Epoch [86/100], Loss: 0.6543\n",
      "Epoch [87/100], Loss: 0.6510\n",
      "Epoch [88/100], Loss: 0.6477\n",
      "Epoch [89/100], Loss: 0.6444\n",
      "Epoch [90/100], Loss: 0.6411\n",
      "Epoch [91/100], Loss: 0.6378\n",
      "Epoch [92/100], Loss: 0.6345\n",
      "Epoch [93/100], Loss: 0.6314\n",
      "Epoch [94/100], Loss: 0.6279\n",
      "Epoch [95/100], Loss: 0.6246\n",
      "Epoch [96/100], Loss: 0.6214\n",
      "Epoch [97/100], Loss: 0.6181\n",
      "Epoch [98/100], Loss: 0.6148\n",
      "Epoch [99/100], Loss: 0.6114\n",
      "Epoch [100/100], Loss: 0.6081\n"
     ]
    }
   ],
   "source": [
    "# model predicts the category as an embedding\n",
    "import torch \n",
    "import torch.nn as nn\n",
    "import torch.optim as optim\n",
    "\n",
    "# Configure the transformer model\n",
    "# ensure it accepts the embeddings shape (n, 384)\n",
    "encoder_layer = nn.TransformerEncoderLayer(d_model=384, nhead=8) # 384 dims, 8 attention heads\n",
    "# encoder_layer = nn.TransformerEncoderLayer(d_model=512, nhead=8) # 512 dims, 8 attention heads\n",
    "transformer_encoder = nn.TransformerEncoder(encoder_layer, num_layers=6, enable_nested_tensor=False) \n",
    "\n",
    "# Retrieve the embeddings\n",
    "training_embeddings = torch.from_numpy(model.encode(train['Description'].values))\n",
    "target_embeddings = torch.from_numpy(model.encode(train['Category'].values))\n",
    "\n",
    "# Train the encoder on the training embeddings data\n",
    "# Define the loss function\n",
    "criterion = nn.MSELoss()\n",
    "# Define the optimizer\n",
    "optimizer = optim.Adam(transformer_encoder.parameters(), lr=0.001)\n",
    "# Train the model\n",
    "for epoch in range(100):\n",
    "    # Forward pass\n",
    "    output = transformer_encoder(training_embeddings)\n",
    "    loss = criterion(output, target_embeddings)\n",
    "    # Backward pass\n",
    "    optimizer.zero_grad()\n",
    "    loss.backward()\n",
    "    optimizer.step()\n",
    "    # Print the loss\n",
    "    print('Epoch [{}/{}], Loss: {:.4f}'.format(epoch+1, 100, loss.item()))\n"
   ]
  },
  {
   "cell_type": "code",
   "execution_count": 78,
   "metadata": {},
   "outputs": [
    {
     "ename": "IndexError",
     "evalue": "Dimension out of range (expected to be in range of [-1, 0], but got 1)",
     "output_type": "error",
     "traceback": [
      "\u001b[0;31m---------------------------------------------------------------------------\u001b[0m",
      "\u001b[0;31mIndexError\u001b[0m                                Traceback (most recent call last)",
      "Cell \u001b[0;32mIn[78], line 24\u001b[0m\n\u001b[1;32m     22\u001b[0m output \u001b[38;5;241m=\u001b[39m torch\u001b[38;5;241m.\u001b[39margmax(decoder(labels), dim\u001b[38;5;241m=\u001b[39m\u001b[38;5;241m1\u001b[39m)\n\u001b[1;32m     23\u001b[0m \u001b[38;5;66;03m# retrieve predection value from max index\u001b[39;00m\n\u001b[0;32m---> 24\u001b[0m output \u001b[38;5;241m=\u001b[39m \u001b[43mtorch\u001b[49m\u001b[38;5;241;43m.\u001b[39;49m\u001b[43mgather\u001b[49m\u001b[43m(\u001b[49m\u001b[43moutput\u001b[49m\u001b[43m,\u001b[49m\u001b[43m \u001b[49m\u001b[38;5;241;43m1\u001b[39;49m\u001b[43m,\u001b[49m\u001b[43m \u001b[49m\u001b[43moutput\u001b[49m\u001b[38;5;241;43m.\u001b[39;49m\u001b[43munsqueeze\u001b[49m\u001b[43m(\u001b[49m\u001b[38;5;241;43m1\u001b[39;49m\u001b[43m)\u001b[49m\u001b[38;5;241;43m.\u001b[39;49m\u001b[43msqueeze\u001b[49m\u001b[43m(\u001b[49m\u001b[43m)\u001b[49m\u001b[43m)\u001b[49m\n\u001b[1;32m     25\u001b[0m loss \u001b[38;5;241m=\u001b[39m criterion(output, target_labels)\n\u001b[1;32m     26\u001b[0m \u001b[38;5;66;03m# Backward pass\u001b[39;00m\n",
      "\u001b[0;31mIndexError\u001b[0m: Dimension out of range (expected to be in range of [-1, 0], but got 1)"
     ]
    }
   ],
   "source": [
    "# decoder should be able to convert the embedded categories back to the original categories consistently.\n",
    "from sklearn.preprocessing import LabelEncoder\n",
    "# Embed the categories with the model\n",
    "labels = torch.from_numpy(model.encode(train['Category'].values))\n",
    "# define lable encoder\n",
    "le = LabelEncoder()\n",
    "le.fit(train['Category'])\n",
    "target_labels = le.transform(train['Category'])\n",
    "\n",
    "# Define the decoder\n",
    "cats = len(train['Category'].unique())\n",
    "decoder = nn.Linear(384, cats) # 384 dims in, 11 out\n",
    "\n",
    "# train the decoder\n",
    "# Define the loss function\n",
    "criterion = nn.CrossEntropyLoss()\n",
    "# Define the optimizer\n",
    "optimizer = optim.Adam(decoder.parameters(), lr=0.001)\n",
    "# Train the model\n",
    "for epoch in range(100):\n",
    "    # Forward pass\n",
    "    output = torch.argmax(decoder(labels), dim=1)\n",
    "    # retrieve predection value from max index\n",
    "    output = torch.gather(output, 1, output.unsqueeze(1).squeeze())\n",
    "    loss = criterion(output, target_labels)\n",
    "    # Backward pass\n",
    "    optimizer.zero_grad()\n",
    "    loss.backward()\n",
    "    optimizer.step()\n",
    "    # Print the loss\n",
    "    print('Epoch [{}/{}], Loss: {:.4f}'.format(epoch+1, 100, loss.item()))\n"
   ]
  },
  {
   "cell_type": "code",
   "execution_count": 68,
   "metadata": {},
   "outputs": [
    {
     "name": "stdout",
     "output_type": "stream",
     "text": [
      "Accuracy: 1.0\n",
      "Precision: 1.0\n",
      "Recall: 1.0\n",
      "F1 Score: 1.0\n"
     ]
    },
    {
     "data": {
      "image/png": "[encoded data removed]",
      "text/plain": [
       "<Figure size 640x480 with 2 Axes>"
      ]
     },
     "metadata": {},
     "output_type": "display_data"
    },
    {
     "name": "stdout",
     "output_type": "stream",
     "text": [
      "Accuracy: 0.8070175438596491\n",
      "Precision: 0.33236223236223233\n",
      "Recall: 0.23283545393078864\n",
      "F1 Score: 0.2467789127868179\n"
     ]
    },
    {
     "name": "stderr",
     "output_type": "stream",
     "text": [
      "/home/james/projects/categoryPrediction/venv/lib/python3.8/site-packages/sklearn/metrics/_classification.py:1471: UndefinedMetricWarning: Precision is ill-defined and being set to 0.0 in labels with no predicted samples. Use `zero_division` parameter to control this behavior.\n",
      "  _warn_prf(average, modifier, msg_start, len(result))\n"
     ]
    },
    {
     "data": {
      "image/png": "[encoded data removed]",
      "text/plain": [
       "<Figure size 640x480 with 2 Axes>"
      ]
     },
     "metadata": {},
     "output_type": "display_data"
    }
   ],
   "source": [
    "# Evaluate encoder/decoder\n",
    "# Predict the categories\n",
    "#predicted_embeddings = transformer_encoder()\n",
    "predicted_labels = torch.argmax(decoder(training_embeddings), axis=1)\n",
    "# predicted_labels = torch.argmax(decoder(transformer_encoder(training_embeddings)), axis=1)\n",
    "# Convert the predicted labels to numpy\n",
    "predicted_labels = predicted_labels.detach().numpy()\n",
    "# Convert the predicted labels to categories\n",
    "predicted_categories = label_encoder.inverse_transform(predicted_labels)\n",
    "\n",
    "# Evaluate the model\n",
    "from sklearn.metrics import accuracy_score, precision_score, recall_score, f1_score\n",
    "accuracy = accuracy_score(train['Category'], predicted_categories)\n",
    "print('Accuracy:', accuracy)\n",
    "print('Precision:', precision_score(train['Category'], predicted_categories, average='macro'))\n",
    "print('Recall:', recall_score(train['Category'], predicted_categories, average='macro'))\n",
    "print('F1 Score:', f1_score(train['Category'], predicted_categories, average='macro'))\n",
    "\n",
    "# confusion matrix \n",
    "from sklearn.metrics import confusion_matrix\n",
    "import seaborn as sns\n",
    "import matplotlib.pyplot as plt\n",
    "confusion = confusion_matrix(train['Category'], predicted_categories)\n",
    "sns.heatmap(confusion, annot=True, fmt='d')\n",
    "plt.show()\n",
    "\n",
    "# Evaluate on the validation set\n",
    "# Retrieve the embeddings\n",
    "val_embeddings = torch.from_numpy(model.encode(val['Description'].values))\n",
    "\n",
    "# Predict the categories\n",
    "val_predicted_labels = torch.argmax(decoder(val_embeddings), axis=1)\n",
    "# Convert the predicted labels to numpy\n",
    "val_predicted_labels = val_predicted_labels.detach().numpy()\n",
    "# Convert the predicted labels to categories\n",
    "val_predicted_categories = label_encoder.inverse_transform(val_predicted_labels)\n",
    "\n",
    "# Evaluate the model\n",
    "print('Accuracy:', accuracy_score(val['Category'], val_predicted_categories))\n",
    "print('Precision:', precision_score(val['Category'], val_predicted_categories, average='macro'))\n",
    "print('Recall:', recall_score(val['Category'], val_predicted_categories, average='macro'))\n",
    "print('F1 Score:', f1_score(val['Category'], val_predicted_categories, average='macro'))\n",
    "\n",
    "# confusion matrix\n",
    "confusion = confusion_matrix(val['Category'], val_predicted_categories)\n",
    "sns.heatmap(confusion, annot=True, fmt='d')\n",
    "plt.show()\n",
    "\n"
   ]
  },
  {
   "cell_type": "markdown",
   "metadata": {},
   "source": [
    "## Struggling with the core concept really"
   ]
  }
 ],
 "metadata": {
  "kernelspec": {
   "display_name": "venv",
   "language": "python",
   "name": "python3"
  },
  "language_info": {
   "codemirror_mode": {
    "name": "ipython",
    "version": 3
   },
   "file_extension": ".py",
   "mimetype": "text/x-python",
   "name": "python",
   "nbconvert_exporter": "python",
   "pygments_lexer": "ipython3",
   "version": "3.8.10"
  }
 },
 "nbformat": 4,
 "nbformat_minor": 2
}
